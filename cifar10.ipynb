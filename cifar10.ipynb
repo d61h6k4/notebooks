{
  "nbformat": 4,
  "nbformat_minor": 0,
  "metadata": {
    "colab": {
      "name": "cifar10",
      "version": "0.3.2",
      "provenance": [],
      "include_colab_link": true
    },
    "kernelspec": {
      "name": "python3",
      "display_name": "Python 3"
    }
  },
  "cells": [
    {
      "cell_type": "markdown",
      "metadata": {
        "id": "view-in-github",
        "colab_type": "text"
      },
      "source": [
        "<a href=\"https://colab.research.google.com/github/d61h6k4/notebooks/blob/master/cifar10.ipynb\" target=\"_parent\"><img src=\"https://colab.research.google.com/assets/colab-badge.svg\" alt=\"Open In Colab\"/></a>"
      ]
    },
    {
      "cell_type": "code",
      "metadata": {
        "id": "55bpBjgbRkLr",
        "colab_type": "code",
        "colab": {}
      },
      "source": [
        "!pip install tensorflow-datasets matplotlib numpy\n",
        "!pip install tensorflow==2.0.0-beta1"
      ],
      "execution_count": 0,
      "outputs": []
    },
    {
      "cell_type": "code",
      "metadata": {
        "id": "7zO0yhN4TQQx",
        "colab_type": "code",
        "colab": {}
      },
      "source": [
        "from __future__ import absolute_import\n",
        "from __future__ import division\n",
        "from __future__ import print_function\n",
        "\n",
        "import matplotlib.pyplot as plt\n",
        "import numpy as np\n",
        "import tensorflow as tf\n",
        "\n",
        "import tensorflow_datasets as tfds"
      ],
      "execution_count": 0,
      "outputs": []
    },
    {
      "cell_type": "code",
      "metadata": {
        "id": "5yi47O7iUAo_",
        "colab_type": "code",
        "colab": {}
      },
      "source": [
        "class DAWNNet(tf.keras.Model):\n",
        "    def __init__(self):\n",
        "        super(DAWNNet, self).__init__()\n",
        "        self.__prep = tf.keras.Sequential(layers=[\n",
        "            tf.keras.layers.Conv2D(64, 3, strides=1, padding=\"same\", use_bias=False),\n",
        "            tf.keras.layers.BatchNormalization(),\n",
        "            tf.keras.layers.ReLU()\n",
        "        ], name='prep')\n",
        "        self.__final = tf.keras.Sequential(layers=[\n",
        "            tf.keras.layers.MaxPool2D(4),\n",
        "            tf.keras.layers.Flatten()\n",
        "        ], name='pool')\n",
        "        self.__classifier = tf.keras.layers.Dense(10, activation='softmax', name='classifier')\n",
        "        \n",
        "    def __call__(self, inputs, training=False):\n",
        "        prepeared_images = self.__prep(inputs, training)\n",
        "        finalized_images = self.__final(prepeared_images, training)\n",
        "        images_classes = self.__classifier(finalized_images)\n",
        "        \n",
        "        return images_classes"
      ],
      "execution_count": 0,
      "outputs": []
    },
    {
      "cell_type": "code",
      "metadata": {
        "id": "3hY8an0MUDEi",
        "colab_type": "code",
        "colab": {}
      },
      "source": [
        "def preprocess_image(example):\n",
        "    example['image'] = tf.image.transpose(\n",
        "        tf.image.per_image_standardization(\n",
        "            tf.pad(tf.cast(example['image'], tf.float32), tf.constant([[4, 4], [4, 4], [0, 0]]), \"REFLECT\")))\n",
        "    return example"
      ],
      "execution_count": 0,
      "outputs": []
    },
    {
      "cell_type": "code",
      "metadata": {
        "id": "599HsSDkXo-M",
        "colab_type": "code",
        "colab": {
          "base_uri": "https://localhost:8080/",
          "height": 74
        },
        "outputId": "6e37f429-a924-4d7e-ff1e-be2c08351dcd"
      },
      "source": [
        "train, test = tfds.load(name='cifar10', split=['train', 'test'])\n",
        "train = train.map(preprocess_image).shuffle(buffer_size=1024).batch(64)\n",
        "test = test.map(preprocess_image)"
      ],
      "execution_count": 89,
      "outputs": [
        {
          "output_type": "stream",
          "text": [
            "W0827 17:20:06.367926 140080297170816 dataset_builder.py:439] Warning: Setting shuffle_files=True because split=TRAIN and shuffle_files=None. This behavior will be deprecated on 2019-08-06, at which point shuffle_files=False will be the default for all splits.\n"
          ],
          "name": "stderr"
        }
      ]
    },
    {
      "cell_type": "code",
      "metadata": {
        "id": "O46WsImuaFig",
        "colab_type": "code",
        "colab": {}
      },
      "source": [
        "model = DAWNNet()"
      ],
      "execution_count": 0,
      "outputs": []
    },
    {
      "cell_type": "code",
      "metadata": {
        "id": "KMpY_1SehAY4",
        "colab_type": "code",
        "colab": {
          "base_uri": "https://localhost:8080/",
          "height": 239
        },
        "outputId": "34873f7f-90f3-4011-c0cd-57422e4b57b8"
      },
      "source": [
        "loss_fn = tf.keras.losses.SparseCategoricalCrossentropy()\n",
        "optimizer = tf.keras.optimizers.SGD(learning_rate=1e-3)\n",
        "\n",
        "for step, example in enumerate(train):\n",
        "    with tf.GradientTape() as tape:\n",
        "        logits = model(example['image'], training=True)\n",
        "        loss = loss_fn(example['label'], logits)\n",
        "        \n",
        "    gradients = tape.gradient(loss, model.trainable_weights)\n",
        "    optimizer.apply_gradients(zip(gradients, model.trainable_weights))\n",
        "    \n",
        "    if step % 100 == 0:\n",
        "        print(step, float(loss))"
      ],
      "execution_count": 0,
      "outputs": [
        {
          "output_type": "stream",
          "text": [
            "W0827 17:22:33.022086 140080297170816 deprecation.py:323] From /usr/local/lib/python3.6/dist-packages/tensorflow/python/ops/math_grad.py:1220: add_dispatch_support.<locals>.wrapper (from tensorflow.python.ops.array_ops) is deprecated and will be removed in a future version.\n",
            "Instructions for updating:\n",
            "Use tf.where in 2.0, which has the same broadcast rule as np.where\n"
          ],
          "name": "stderr"
        },
        {
          "output_type": "stream",
          "text": [
            "0 2.4344582557678223\n",
            "100 2.1819639205932617\n",
            "200 2.0250706672668457\n",
            "300 2.0052566528320312\n",
            "400 2.0806949138641357\n",
            "500 1.802386999130249\n"
          ],
          "name": "stdout"
        }
      ]
    },
    {
      "cell_type": "code",
      "metadata": {
        "id": "6lB61loJBWxV",
        "colab_type": "code",
        "colab": {}
      },
      "source": [
        "for example in test:\n",
        "    pred = model(example['image'])\n",
        "    print(f'True label is {example[\"label\"]} and predicted one is {pred}')"
      ],
      "execution_count": 0,
      "outputs": []
    }
  ]
}