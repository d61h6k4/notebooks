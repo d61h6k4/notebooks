{
  "nbformat": 4,
  "nbformat_minor": 0,
  "metadata": {
    "colab": {
      "name": "PyTorch.tutorial1.ipynb",
      "provenance": [],
      "include_colab_link": true
    },
    "kernelspec": {
      "name": "python3",
      "display_name": "Python 3"
    }
  },
  "cells": [
    {
      "cell_type": "markdown",
      "metadata": {
        "id": "view-in-github",
        "colab_type": "text"
      },
      "source": [
        "<a href=\"https://colab.research.google.com/github/d61h6k4/notebooks/blob/master/PyTorch_tutorial1.ipynb\" target=\"_parent\"><img src=\"https://colab.research.google.com/assets/colab-badge.svg\" alt=\"Open In Colab\"/></a>"
      ]
    },
    {
      "cell_type": "markdown",
      "metadata": {
        "id": "jSlKLs2Ix5MY",
        "colab_type": "text"
      },
      "source": [
        "[What is torch.nn really?](https://pytorch.org/tutorials/beginner/nn_tutorial.html)"
      ]
    },
    {
      "cell_type": "code",
      "metadata": {
        "id": "NJg5r5KHxzHi",
        "colab_type": "code",
        "colab": {}
      },
      "source": [
        "import gzip\n",
        "import math\n",
        "import pathlib\n",
        "import pickle\n",
        "import requests\n",
        "import torch\n",
        "\n",
        "import numpy as np\n",
        "import matplotlib.pyplot as plt"
      ],
      "execution_count": 0,
      "outputs": []
    },
    {
      "cell_type": "code",
      "metadata": {
        "id": "Lk14vYRqyVeA",
        "colab_type": "code",
        "colab": {}
      },
      "source": [
        "DATA_PATH = pathlib.Path(\"data\")\n",
        "PATH= DATA_PATH / \"mnist\"\n",
        "\n",
        "PATH.mkdir(parents=True, exist_ok=True)\n",
        "\n",
        "URL = \"http://deeplearning.net/data/mnist/\"\n",
        "FILENAME = \"mnist.pkl.gz\"\n",
        "\n",
        "if not (PATH / FILENAME).exists():\n",
        "    content = requests.get(URL + FILENAME).content\n",
        "    (PATH / FILENAME).open(\"wb\").write(content)"
      ],
      "execution_count": 0,
      "outputs": []
    },
    {
      "cell_type": "code",
      "metadata": {
        "id": "Esnv6IjDzS0d",
        "colab_type": "code",
        "colab": {}
      },
      "source": [
        "with gzip.open((PATH / FILENAME).as_posix(), \"rb\") as f:\n",
        "    ((x_train, y_train), (x_valid, y_valid), _) = pickle.load(f, encoding=\"latin-1\")"
      ],
      "execution_count": 0,
      "outputs": []
    },
    {
      "cell_type": "code",
      "metadata": {
        "id": "dvdrxXIX1m51",
        "colab_type": "code",
        "colab": {
          "base_uri": "https://localhost:8080/",
          "height": 283
        },
        "outputId": "f3c78f5d-9178-40d3-9546-6da0be73ca3c"
      },
      "source": [
        "plt.imshow(x_train[0].reshape((28, 28)), cmap=\"gray\")\n",
        "print(y_train[0])"
      ],
      "execution_count": 5,
      "outputs": [
        {
          "output_type": "stream",
          "text": [
            "5\n"
          ],
          "name": "stdout"
        },
        {
          "output_type": "display_data",
          "data": {
            "image/png": "[encoded data removed]",
            "text/plain": [
              "<Figure size 432x288 with 1 Axes>"
            ]
          },
          "metadata": {
            "tags": []
          }
        }
      ]
    },
    {
      "cell_type": "code",
      "metadata": {
        "id": "igJ4cuk81uKX",
        "colab_type": "code",
        "colab": {
          "base_uri": "https://localhost:8080/",
          "height": 179
        },
        "outputId": "d25bc466-6b88-429a-b8d1-852dea6b03bb"
      },
      "source": [
        "\n",
        "x_train, y_train, x_valid, y_valid = map(\n",
        "    torch.tensor, (x_train, y_train, x_valid, y_valid)\n",
        ")\n",
        "n, c = x_train.shape\n",
        "x_train, x_train.shape, y_train.min(), y_train.max()\n",
        "print(x_train, y_train)\n",
        "print(x_train.shape)\n",
        "print(y_train.min(), y_train.max())"
      ],
      "execution_count": 6,
      "outputs": [
        {
          "output_type": "stream",
          "text": [
            "tensor([[0., 0., 0.,  ..., 0., 0., 0.],\n",
            "        [0., 0., 0.,  ..., 0., 0., 0.],\n",
            "        [0., 0., 0.,  ..., 0., 0., 0.],\n",
            "        ...,\n",
            "        [0., 0., 0.,  ..., 0., 0., 0.],\n",
            "        [0., 0., 0.,  ..., 0., 0., 0.],\n",
            "        [0., 0., 0.,  ..., 0., 0., 0.]]) tensor([5, 0, 4,  ..., 8, 4, 8])\n",
            "torch.Size([50000, 784])\n",
            "tensor(0) tensor(9)\n"
          ],
          "name": "stdout"
        }
      ]
    },
    {
      "cell_type": "code",
      "metadata": {
        "id": "WyfHIRyX2lNR",
        "colab_type": "code",
        "colab": {}
      },
      "source": [
        "weights = torch.randn(784, 10) / math.sqrt(784)\n",
        "weights.requires_grad_()\n",
        "bias = torch.zeros(10, requires_grad=True)"
      ],
      "execution_count": 0,
      "outputs": []
    },
    {
      "cell_type": "markdown",
      "metadata": {
        "id": "cEbKYYJZ4ItW",
        "colab_type": "text"
      },
      "source": [
        "softmax:\n",
        "$$\n",
        "\\sigma_{z_i} = \\frac{e^{z_i}}{\\sum_k^K e^{z_k}}\n",
        "$$\n",
        "log softmax = ln(softmax)\n",
        "$$\n",
        "\\ln(\\sigma_{z_i}) = \\ln(\\frac{e^{z_i}}{\\sum_k^K e^{z_k}}) = \\ln(e^{z_i}) - \\ln(\\sum_k^K e^{z_k}) = z_i - \\ln(\\sum_k^K e^{z_k})\n",
        "$$"
      ]
    },
    {
      "cell_type": "code",
      "metadata": {
        "id": "RlAU5biO3ls7",
        "colab_type": "code",
        "colab": {}
      },
      "source": [
        "def log_softmax(x: torch.Tensor) -> torch.Tensor:\n",
        "    return x - x.exp().sum(-1).log().unsqueeze(-1)\n",
        "\n",
        "def model(xb: torch.Tensor) -> torch.Tensor:\n",
        "    return log_softmax(xb @ weights + bias)"
      ],
      "execution_count": 0,
      "outputs": []
    },
    {
      "cell_type": "code",
      "metadata": {
        "id": "jfPLqTby57Y8",
        "colab_type": "code",
        "colab": {
          "base_uri": "https://localhost:8080/",
          "height": 53
        },
        "outputId": "372eec50-340c-4982-ea31-6885fd1c2e87"
      },
      "source": [
        "BATCH_SIZE = 64\n",
        "\n",
        "xb = x_train[:BATCH_SIZE]\n",
        "preds = model(xb)\n",
        "\n",
        "print(preds[0], preds.shape)"
      ],
      "execution_count": 9,
      "outputs": [
        {
          "output_type": "stream",
          "text": [
            "tensor([-2.2308, -2.6081, -2.4464, -2.3784, -2.3840, -2.8088, -1.7293, -2.8653,\n",
            "        -1.8638, -2.3261], grad_fn=<SelectBackward>) torch.Size([64, 10])\n"
          ],
          "name": "stdout"
        }
      ]
    },
    {
      "cell_type": "markdown",
      "metadata": {
        "id": "edorEQ0yp6xt",
        "colab_type": "text"
      },
      "source": [
        "Negative log likelihood is -log(likelihood) :D\n",
        "\n",
        "likelihood is $\\mathcal{L}(\\theta | x) = p_{\\theta}(x)$\n",
        "\n",
        "softmax gives probability, log(softmax) has already contained logarithm"
      ]
    },
    {
      "cell_type": "code",
      "metadata": {
        "id": "mto91uyR7IpX",
        "colab_type": "code",
        "colab": {}
      },
      "source": [
        "def nll(pred, target):\n",
        "    return -pred[range(target.shape[0]), target].mean()\n",
        "\n",
        "loss_func = nll"
      ],
      "execution_count": 0,
      "outputs": []
    },
    {
      "cell_type": "code",
      "metadata": {
        "id": "XmAOaLv4rwhP",
        "colab_type": "code",
        "colab": {
          "base_uri": "https://localhost:8080/",
          "height": 35
        },
        "outputId": "518e9493-3b60-4264-ad65-21c6b690ca90"
      },
      "source": [
        "yb = y_train[0:BATCH_SIZE]\n",
        "print(loss_func(preds, yb))"
      ],
      "execution_count": 11,
      "outputs": [
        {
          "output_type": "stream",
          "text": [
            "tensor(2.4116, grad_fn=<NegBackward>)\n"
          ],
          "name": "stdout"
        }
      ]
    },
    {
      "cell_type": "code",
      "metadata": {
        "id": "TllycukerzMI",
        "colab_type": "code",
        "colab": {}
      },
      "source": [
        "def accuracy(pred, target):\n",
        "    return (torch.argmax(pred, dim=1) == target).float().mean()"
      ],
      "execution_count": 0,
      "outputs": []
    },
    {
      "cell_type": "code",
      "metadata": {
        "id": "083-M9ktwJxx",
        "colab_type": "code",
        "colab": {
          "base_uri": "https://localhost:8080/",
          "height": 35
        },
        "outputId": "aa30c2b3-a984-4867-9d9d-ef2c59a86c00"
      },
      "source": [
        "print(accuracy(preds, yb))"
      ],
      "execution_count": 13,
      "outputs": [
        {
          "output_type": "stream",
          "text": [
            "tensor(0.0312)\n"
          ],
          "name": "stdout"
        }
      ]
    },
    {
      "cell_type": "code",
      "metadata": {
        "id": "o7zbxgoOwOn5",
        "colab_type": "code",
        "colab": {}
      },
      "source": [
        "lr = 0.5\n",
        "epochs = 2\n",
        "\n",
        "for epoch in range(epochs):\n",
        "    for i in range((n - 1) // BATCH_SIZE + 1):\n",
        "        start_i = i * BATCH_SIZE\n",
        "        end_i = start_i + BATCH_SIZE\n",
        "\n",
        "        xb = x_train[start_i: end_i]\n",
        "        yb = y_train[start_i: end_i]\n",
        "\n",
        "        pred = model(xb)\n",
        "        loss = loss_func(pred, yb)\n",
        "\n",
        "        loss.backward()\n",
        "        with torch.no_grad():\n",
        "            weights -= weights.grad * lr\n",
        "            bias -= bias.grad * lr\n",
        "            weights.grad.zero_()\n",
        "            bias.grad.zero_()"
      ],
      "execution_count": 0,
      "outputs": []
    },
    {
      "cell_type": "code",
      "metadata": {
        "id": "QfYRDMxM1v1j",
        "colab_type": "code",
        "colab": {
          "base_uri": "https://localhost:8080/",
          "height": 53
        },
        "outputId": "a30ac50f-73e7-4088-adf1-c43de28aa6d6"
      },
      "source": [
        "\n",
        "xb = x_train[:BATCH_SIZE]\n",
        "preds = model(xb)\n",
        "\n",
        "yb = y_train[0:BATCH_SIZE]\n",
        "print(loss_func(preds, yb))\n",
        "print(accuracy(preds, yb))"
      ],
      "execution_count": 19,
      "outputs": [
        {
          "output_type": "stream",
          "text": [
            "tensor(0.2255, grad_fn=<NegBackward>)\n",
            "tensor(0.9531)\n"
          ],
          "name": "stdout"
        }
      ]
    },
    {
      "cell_type": "code",
      "metadata": {
        "id": "S2HKTQLc1_H9",
        "colab_type": "code",
        "colab": {}
      },
      "source": [
        "loss_func = torch.nn.functional.cross_entropy\n",
        "\n",
        "def model(xb):\n",
        "    return xb @ weights + bias"
      ],
      "execution_count": 0,
      "outputs": []
    },
    {
      "cell_type": "code",
      "metadata": {
        "id": "rKNKdwz45UC6",
        "colab_type": "code",
        "colab": {
          "base_uri": "https://localhost:8080/",
          "height": 53
        },
        "outputId": "a4b27900-8210-4d03-849a-8eaa38bda2f8"
      },
      "source": [
        "\n",
        "xb = x_train[:BATCH_SIZE]\n",
        "preds = model(xb)\n",
        "\n",
        "yb = y_train[0:BATCH_SIZE]\n",
        "print(loss_func(preds, yb))\n",
        "print(accuracy(preds, yb))"
      ],
      "execution_count": 21,
      "outputs": [
        {
          "output_type": "stream",
          "text": [
            "tensor(0.2255, grad_fn=<NllLossBackward>)\n",
            "tensor(0.9531)\n"
          ],
          "name": "stdout"
        }
      ]
    },
    {
      "cell_type": "code",
      "metadata": {
        "id": "k6psH2Qw5V8b",
        "colab_type": "code",
        "colab": {}
      },
      "source": [
        "class Mnist_Logistic(torch.nn.Module):\n",
        "    def __init__(self):\n",
        "        super().__init__()\n",
        "        self.weights = torch.nn.Parameter(torch.randn(784, 10) / math.sqrt(784))\n",
        "        self.bias = torch.nn.Parameter(torch.zeros(10))\n",
        "\n",
        "    def forward(self, xb):\n",
        "        return xb @ self.weights + self.bias"
      ],
      "execution_count": 0,
      "outputs": []
    },
    {
      "cell_type": "code",
      "metadata": {
        "id": "eUCQ6CIw5tqu",
        "colab_type": "code",
        "colab": {}
      },
      "source": [
        "model = Mnist_Logistic()"
      ],
      "execution_count": 0,
      "outputs": []
    },
    {
      "cell_type": "code",
      "metadata": {
        "id": "qfxQqaTp5yDW",
        "colab_type": "code",
        "colab": {
          "base_uri": "https://localhost:8080/",
          "height": 53
        },
        "outputId": "4d601033-e903-40a2-9711-145084fb1a75"
      },
      "source": [
        "print(loss_func(model(xb), yb))\n",
        "print(accuracy(model(xb), yb))"
      ],
      "execution_count": 27,
      "outputs": [
        {
          "output_type": "stream",
          "text": [
            "tensor(2.3128, grad_fn=<NllLossBackward>)\n",
            "tensor(0.1250)\n"
          ],
          "name": "stdout"
        }
      ]
    },
    {
      "cell_type": "code",
      "metadata": {
        "id": "qLMglv7Q58KV",
        "colab_type": "code",
        "colab": {}
      },
      "source": [
        "def fit():\n",
        "    for epoch in range(epochs):\n",
        "        for i in range((n - 1) // BATCH_SIZE + 1):\n",
        "            start_i = i * BATCH_SIZE\n",
        "            end_i = start_i + BATCH_SIZE\n",
        "            xb = x_train[start_i:end_i]\n",
        "            yb = y_train[start_i:end_i]\n",
        "            pred = model(xb)\n",
        "            loss = loss_func(pred, yb)\n",
        "\n",
        "            loss.backward()\n",
        "            with torch.no_grad():\n",
        "                for p in model.parameters():\n",
        "                    p -= p.grad * lr\n",
        "                model.zero_grad()\n",
        "\n",
        "fit()"
      ],
      "execution_count": 0,
      "outputs": []
    },
    {
      "cell_type": "code",
      "metadata": {
        "id": "9KSY6ktl6daU",
        "colab_type": "code",
        "colab": {
          "base_uri": "https://localhost:8080/",
          "height": 35
        },
        "outputId": "4c0b12e9-bb33-4840-8036-443ea4b7dcc1"
      },
      "source": [
        "print(loss_func(model(x_valid), y_valid), accuracy(model(x_valid), y_valid))"
      ],
      "execution_count": 30,
      "outputs": [
        {
          "output_type": "stream",
          "text": [
            "tensor(0.2935, grad_fn=<NllLossBackward>) tensor(0.9182)\n"
          ],
          "name": "stdout"
        }
      ]
    },
    {
      "cell_type": "code",
      "metadata": {
        "id": "Xj05THy36p7l",
        "colab_type": "code",
        "colab": {}
      },
      "source": [
        "class Mnist_Logistic(torch.nn.Module):\n",
        "    def __init__(self):\n",
        "        super().__init__()\n",
        "        self.lin = torch.nn.Linear(784, 10)\n",
        "\n",
        "    def forward(self, xb):\n",
        "        return self.lin(xb)"
      ],
      "execution_count": 0,
      "outputs": []
    },
    {
      "cell_type": "code",
      "metadata": {
        "id": "p4DQiYsW7A1S",
        "colab_type": "code",
        "colab": {
          "base_uri": "https://localhost:8080/",
          "height": 35
        },
        "outputId": "e35e01b3-3068-4f1a-8d7f-fe9f26b4e8aa"
      },
      "source": [
        "model = Mnist_Logistic()\n",
        "print(loss_func(model(xb), yb))"
      ],
      "execution_count": 33,
      "outputs": [
        {
          "output_type": "stream",
          "text": [
            "tensor(2.3237, grad_fn=<NllLossBackward>)\n"
          ],
          "name": "stdout"
        }
      ]
    },
    {
      "cell_type": "code",
      "metadata": {
        "id": "SIeKEexW7FE4",
        "colab_type": "code",
        "colab": {
          "base_uri": "https://localhost:8080/",
          "height": 53
        },
        "outputId": "0f2660a0-2475-46ee-ccef-d5d56ce37eca"
      },
      "source": [
        "fit()\n",
        "\n",
        "print(loss_func(model(xb), yb))\n",
        "print(loss_func(model(x_valid), y_valid), accuracy(model(x_valid), y_valid))"
      ],
      "execution_count": 34,
      "outputs": [
        {
          "output_type": "stream",
          "text": [
            "tensor(0.2273, grad_fn=<NllLossBackward>)\n",
            "tensor(0.2928, grad_fn=<NllLossBackward>) tensor(0.9181)\n"
          ],
          "name": "stdout"
        }
      ]
    },
    {
      "cell_type": "code",
      "metadata": {
        "id": "vFBfw-Qg7KdZ",
        "colab_type": "code",
        "colab": {
          "base_uri": "https://localhost:8080/",
          "height": 53
        },
        "outputId": "ae16eb62-58f8-415a-f7be-0b3d13fdf00c"
      },
      "source": [
        "def get_model():\n",
        "    model = Mnist_Logistic()\n",
        "    return model, torch.optim.SGD(model.parameters(), lr=lr)\n",
        "\n",
        "model, opt = get_model()\n",
        "print(loss_func(model(xb), yb))\n",
        "\n",
        "for epoch in range(epochs):\n",
        "    for i in range((n - 1) // BATCH_SIZE + 1):\n",
        "        start_i = i * BATCH_SIZE\n",
        "        end_i = start_i + BATCH_SIZE\n",
        "        xb = x_train[start_i:end_i]\n",
        "        yb = y_train[start_i:end_i]\n",
        "        pred = model(xb)\n",
        "        loss = loss_func(pred, yb)\n",
        "\n",
        "        loss.backward()\n",
        "        opt.step()\n",
        "        opt.zero_grad()\n",
        "\n",
        "print(loss_func(model(xb), yb))"
      ],
      "execution_count": 36,
      "outputs": [
        {
          "output_type": "stream",
          "text": [
            "tensor(2.3215, grad_fn=<NllLossBackward>)\n",
            "tensor(0.0814, grad_fn=<NllLossBackward>)\n"
          ],
          "name": "stdout"
        }
      ]
    },
    {
      "cell_type": "code",
      "metadata": {
        "id": "TwqNhPCf7aoX",
        "colab_type": "code",
        "colab": {
          "base_uri": "https://localhost:8080/",
          "height": 35
        },
        "outputId": "f8ace03b-3c96-440f-c665-face50f9d8b2"
      },
      "source": [
        "print(loss_func(model(x_valid), y_valid), accuracy(model(x_valid), y_valid))"
      ],
      "execution_count": 37,
      "outputs": [
        {
          "output_type": "stream",
          "text": [
            "tensor(0.2923, grad_fn=<NllLossBackward>) tensor(0.9179)\n"
          ],
          "name": "stdout"
        }
      ]
    },
    {
      "cell_type": "code",
      "metadata": {
        "id": "FGz410J47ivk",
        "colab_type": "code",
        "colab": {
          "base_uri": "https://localhost:8080/",
          "height": 35
        },
        "outputId": "68c7d33a-42c7-4137-f3c0-87068bc6cf4f"
      },
      "source": [
        "train_ds = torch.utils.data.TensorDataset(x_train, y_train)\n",
        "\n",
        "model, opt = get_model()\n",
        "\n",
        "for epoch in range(epochs):\n",
        "    for i in range((n - 1) // BATCH_SIZE + 1):\n",
        "        xb, yb = train_ds[i * BATCH_SIZE: i * BATCH_SIZE + BATCH_SIZE]\n",
        "        pred = model(xb)\n",
        "        loss = loss_func(pred, yb)\n",
        "        loss.backward()\n",
        "        opt.step()\n",
        "        opt.zero_grad()\n",
        "\n",
        "print(loss_func(model(xb), yb))"
      ],
      "execution_count": 39,
      "outputs": [
        {
          "output_type": "stream",
          "text": [
            "tensor(0.0805, grad_fn=<NllLossBackward>)\n"
          ],
          "name": "stdout"
        }
      ]
    },
    {
      "cell_type": "code",
      "metadata": {
        "id": "pKJ5WF1HDEqn",
        "colab_type": "code",
        "colab": {
          "base_uri": "https://localhost:8080/",
          "height": 35
        },
        "outputId": "d11632f0-3534-4ec6-938c-e49684d3abb5"
      },
      "source": [
        "train_dl = torch.utils.data.DataLoader(train_ds, batch_size=BATCH_SIZE)\n",
        "model, opt = get_model()\n",
        "\n",
        "for epoch in range(epochs):\n",
        "    for xb, yb in train_dl:\n",
        "        pred = model(xb)\n",
        "        loss = loss_func(pred, yb)\n",
        "\n",
        "        loss.backward()\n",
        "        opt.step()\n",
        "        opt.zero_grad()\n",
        "\n",
        "print(loss_func(model(xb), yb))\n"
      ],
      "execution_count": 41,
      "outputs": [
        {
          "output_type": "stream",
          "text": [
            "tensor(0.0818, grad_fn=<NllLossBackward>)\n"
          ],
          "name": "stdout"
        }
      ]
    },
    {
      "cell_type": "code",
      "metadata": {
        "id": "qBMd-l0rErSr",
        "colab_type": "code",
        "colab": {}
      },
      "source": [
        "train_ds = torch.utils.data.TensorDataset(x_train, y_train)\n",
        "train_dl = torch.utils.data.DataLoader(train_ds, batch_size=BATCH_SIZE, shuffle=True)\n",
        "\n",
        "valid_ds = torch.utils.data.TensorDataset(x_valid, y_valid)\n",
        "valid_dl = torch.utils.data.DataLoader(valid_ds, batch_size=BATCH_SIZE * 2)"
      ],
      "execution_count": 0,
      "outputs": []
    },
    {
      "cell_type": "code",
      "metadata": {
        "id": "LlLmpPn2F2iw",
        "colab_type": "code",
        "colab": {
          "base_uri": "https://localhost:8080/",
          "height": 53
        },
        "outputId": "7e3d160c-e2c3-45bf-8b40-c6ed6112020c"
      },
      "source": [
        "model, opt = get_model()\n",
        "\n",
        "for epoch in range(epochs):\n",
        "    model.train()\n",
        "    for xb, yb in train_dl:\n",
        "        pred = model(xb)\n",
        "        loss = loss_func(pred, yb)\n",
        "\n",
        "        loss.backward()\n",
        "        opt.step()\n",
        "        opt.zero_grad()\n",
        "\n",
        "    model.eval()\n",
        "    with torch.no_grad():\n",
        "        valid_loss = sum(loss_func(model(xb), yb) for xb, yb in valid_dl)\n",
        "\n",
        "    print(epoch, valid_loss / len(valid_dl))"
      ],
      "execution_count": 45,
      "outputs": [
        {
          "output_type": "stream",
          "text": [
            "0 tensor(0.3123)\n",
            "1 tensor(0.3129)\n"
          ],
          "name": "stdout"
        }
      ]
    },
    {
      "cell_type": "code",
      "metadata": {
        "id": "QXpPDhKlGBsl",
        "colab_type": "code",
        "colab": {}
      },
      "source": [
        "def loss_batch(model, loss_func, xb, yb, opt=None):\n",
        "    loss = loss_func(model(xb), yb)\n",
        "\n",
        "    if opt is not None:\n",
        "        loss.backward()\n",
        "        opt.step()\n",
        "        opt.zero_grad()\n",
        "\n",
        "    return loss.item(), len(xb)"
      ],
      "execution_count": 0,
      "outputs": []
    },
    {
      "cell_type": "code",
      "metadata": {
        "id": "RR4emuNAHU0O",
        "colab_type": "code",
        "colab": {}
      },
      "source": [
        "def fit(epochs, model, loss_func, opt, train_dl, valid_dl):\n",
        "    for epoch in range(epochs):\n",
        "        model.train()\n",
        "        for xb, yb in train_dl:\n",
        "            loss_batch(model, loss_func, xb, yb, opt)\n",
        "\n",
        "        model.eval()\n",
        "        with torch.no_grad():\n",
        "            losses, nums = zip(\n",
        "                *[loss_batch(model, loss_func, xb, yb) for xb, yb in valid_dl]\n",
        "            )\n",
        "        val_loss = np.sum(np.multiply(losses, nums)) / np.sum(nums)\n",
        "\n",
        "        print(epoch, val_loss)"
      ],
      "execution_count": 0,
      "outputs": []
    },
    {
      "cell_type": "code",
      "metadata": {
        "id": "CIq8BnNbHcy-",
        "colab_type": "code",
        "colab": {}
      },
      "source": [
        "def get_data(train_ds, valid_ds, bs):\n",
        "    return (\n",
        "        torch.utils.data.DataLoader(train_ds, batch_size=bs, shuffle=True),\n",
        "        torch.utils.data.DataLoader(valid_ds, batch_size=bs * 2),\n",
        "    )"
      ],
      "execution_count": 0,
      "outputs": []
    },
    {
      "cell_type": "code",
      "metadata": {
        "id": "g9eztFVRHgRb",
        "colab_type": "code",
        "colab": {
          "base_uri": "https://localhost:8080/",
          "height": 197
        },
        "outputId": "c325b22d-2968-43b1-9bea-c2d3e64cdabc"
      },
      "source": [
        "train_dl, valid_dl = get_data(train_ds, valid_ds, BATCH_SIZE)\n",
        "model, opt = get_model()\n",
        "fit(10, model, loss_func, opt, train_dl, valid_dl)"
      ],
      "execution_count": 54,
      "outputs": [
        {
          "output_type": "stream",
          "text": [
            "0 0.29234937291145324\n",
            "1 0.2816196670055389\n",
            "2 0.29964856300354004\n",
            "3 0.3197982791185379\n",
            "4 0.2806542938709259\n",
            "5 0.2844749162256718\n",
            "6 0.35318189092874525\n",
            "7 0.346016840672493\n",
            "8 0.2664547397494316\n",
            "9 0.2982609001159668\n"
          ],
          "name": "stdout"
        }
      ]
    },
    {
      "cell_type": "code",
      "metadata": {
        "id": "omIrQnRLHlQF",
        "colab_type": "code",
        "colab": {}
      },
      "source": [
        "class Mnist_CNN(torch.nn.Module):\n",
        "    def __init__(self):\n",
        "        super().__init__()\n",
        "        self.conv1 = torch.nn.Conv2d(1, 16, kernel_size=3, stride=2, padding=1)\n",
        "        self.conv2 = torch.nn.Conv2d(16, 16, kernel_size=3, stride=2, padding=1)\n",
        "        self.conv3 = torch.nn.Conv2d(16, 10, kernel_size=3, stride=2, padding=1)\n",
        "\n",
        "    def forward(self, xb):\n",
        "        xb = xb.view(-1, 1, 28, 28)\n",
        "        xb = torch.nn.functional.relu(self.conv1(xb))\n",
        "        xb = torch.nn.functional.relu(self.conv2(xb))\n",
        "        xb = torch.nn.functional.relu(self.conv3(xb))\n",
        "        xb = torch.nn.functional.avg_pool2d(xb, 4)\n",
        "        return xb.view(-1, xb.size(1))\n",
        "\n",
        "lr = 0.1"
      ],
      "execution_count": 0,
      "outputs": []
    },
    {
      "cell_type": "code",
      "metadata": {
        "id": "8nXjeqLyISDm",
        "colab_type": "code",
        "colab": {
          "base_uri": "https://localhost:8080/",
          "height": 53
        },
        "outputId": "ac84c1b1-65ab-4607-83e4-13bc94392220"
      },
      "source": [
        "model = Mnist_CNN()\n",
        "opt = torch.optim.SGD(model.parameters(), lr=lr, momentum=0.9)\n",
        "\n",
        "fit(epochs, model, loss_func, opt, train_dl, valid_dl)"
      ],
      "execution_count": 59,
      "outputs": [
        {
          "output_type": "stream",
          "text": [
            "0 0.3119875155925751\n",
            "1 0.26652809740304945\n"
          ],
          "name": "stdout"
        }
      ]
    },
    {
      "cell_type": "code",
      "metadata": {
        "id": "PeY2ZrHuIU8O",
        "colab_type": "code",
        "colab": {}
      },
      "source": [
        "class Lambda(torch.nn.Module):\n",
        "    def __init__(self, func):\n",
        "        super().__init__()\n",
        "        self.func = func\n",
        "\n",
        "    def forward(self, x):\n",
        "        return self.func(x)\n",
        "\n",
        "\n",
        "def preprocess(x):\n",
        "    return x.view(-1, 1, 28, 28)"
      ],
      "execution_count": 0,
      "outputs": []
    },
    {
      "cell_type": "code",
      "metadata": {
        "id": "vVs8xGyMTitq",
        "colab_type": "code",
        "colab": {
          "base_uri": "https://localhost:8080/",
          "height": 53
        },
        "outputId": "f7576b0e-272d-48eb-d7cf-249f3626d941"
      },
      "source": [
        "model = torch.nn.Sequential(\n",
        "    Lambda(preprocess),\n",
        "    torch.nn.Conv2d(1, 16, kernel_size=3, stride=2, padding=1),\n",
        "    torch.nn.ReLU(),\n",
        "    torch.nn.Conv2d(16, 16, kernel_size=3, stride=2, padding=1),\n",
        "    torch.nn.ReLU(),\n",
        "    torch.nn.Conv2d(16, 10, kernel_size=3, stride=2, padding=1),\n",
        "    torch.nn.ReLU(),\n",
        "    torch.nn.AvgPool2d(4),\n",
        "    Lambda(lambda x: x.view(x.size(0), -1)),\n",
        ")\n",
        "\n",
        "opt = torch.optim.SGD(model.parameters(), lr=lr, momentum=0.9)\n",
        "\n",
        "fit(epochs, model, loss_func, opt, train_dl, valid_dl)"
      ],
      "execution_count": 62,
      "outputs": [
        {
          "output_type": "stream",
          "text": [
            "0 0.40720802450180055\n",
            "1 0.24283266565799713\n"
          ],
          "name": "stdout"
        }
      ]
    },
    {
      "cell_type": "code",
      "metadata": {
        "id": "lR-bVfCYTnzS",
        "colab_type": "code",
        "colab": {
          "base_uri": "https://localhost:8080/",
          "height": 35
        },
        "outputId": "7c13a003-ad76-4f84-a18d-6b1eae747b74"
      },
      "source": [
        "accuracy(model(x_valid), y_valid)"
      ],
      "execution_count": 63,
      "outputs": [
        {
          "output_type": "execute_result",
          "data": {
            "text/plain": [
              "tensor(0.9247)"
            ]
          },
          "metadata": {
            "tags": []
          },
          "execution_count": 63
        }
      ]
    },
    {
      "cell_type": "code",
      "metadata": {
        "id": "o0ENm9zxTzmP",
        "colab_type": "code",
        "colab": {}
      },
      "source": [
        ""
      ],
      "execution_count": 0,
      "outputs": []
    }
  ]
}