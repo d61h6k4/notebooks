{
  "nbformat": 4,
  "nbformat_minor": 0,
  "metadata": {
    "colab": {
      "name": "Preprocess sample of data",
      "provenance": [],
      "private_outputs": true,
      "include_colab_link": true
    },
    "kernelspec": {
      "name": "python3",
      "display_name": "Python 3"
    },
    "accelerator": "GPU"
  },
  "cells": [
    {
      "cell_type": "markdown",
      "metadata": {
        "id": "view-in-github",
        "colab_type": "text"
      },
      "source": [
        "<a href=\"https://colab.research.google.com/github/d61h6k4/notebooks/blob/master/TelegramsContest/DataClustering/Preprocess.ipynb\" target=\"_parent\"><img src=\"https://colab.research.google.com/assets/colab-badge.svg\" alt=\"Open In Colab\"/></a>"
      ]
    },
    {
      "cell_type": "code",
      "metadata": {
        "id": "4HW55iDBtSRt",
        "colab_type": "code",
        "colab": {}
      },
      "source": [
        "!pip install -q --upgrade pip\n",
        "!pip install -q tensorflow-gpu==2.0.0\n",
        "!pip install -q python-dateutil\n",
        "!pip install -q tensorflow-text==2.0.0\n",
        "!pip install -q tensorflow-hub                               \n",
        "!pip install -q numpy scipy scikit-learn numba\n",
        "!pip install -q umap-learn\n",
        "!pip install -q matplotlib\n",
        "!pip install -q tqdm"
      ],
      "execution_count": 0,
      "outputs": []
    },
    {
      "cell_type": "code",
      "metadata": {
        "id": "JLXbFhQA0yNW",
        "colab_type": "code",
        "colab": {}
      },
      "source": [
        "import datetime\n",
        "import dateutil.parser\n",
        "import html\n",
        "import pathlib\n",
        "import pprint\n",
        "import tqdm\n",
        "import umap\n",
        "\n",
        "import numpy as np\n",
        "import matplotlib.pyplot as plt\n",
        "import tensorflow as tf\n",
        "import tensorflow_text as tf_text\n",
        "import tensorflow_hub as tf_hub"
      ],
      "execution_count": 0,
      "outputs": []
    },
    {
      "cell_type": "code",
      "metadata": {
        "id": "QQx3SiI8Meoz",
        "colab_type": "code",
        "colab": {}
      },
      "source": [
        "%matplotlib inline\n",
        "plt.style.use('fivethirtyeight')"
      ],
      "execution_count": 0,
      "outputs": []
    },
    {
      "cell_type": "code",
      "metadata": {
        "id": "wrPXVv6z1Wlb",
        "colab_type": "code",
        "colab": {}
      },
      "source": [
        "data_clustering_sample_archive = tf.keras.utils.get_file(\"data_clustering_sample.tar.gz\", \"https://zenodo.org/record/3544758/files/DataClusteringSample0107.tar.gz?download=1\", extract=True, archive_format='tar')\n",
        "data_clustering_sample = tf.data.Dataset.list_files(str(pathlib.Path(data_clustering_sample_archive).parent / '*/*/*.html'))"
      ],
      "execution_count": 0,
      "outputs": []
    },
    {
      "cell_type": "code",
      "metadata": {
        "id": "yh5ffC0APugT",
        "colab_type": "code",
        "colab": {}
      },
      "source": [
        "def read_file(file_path):\n",
        "    return tf.io.read_file(file_path)"
      ],
      "execution_count": 0,
      "outputs": []
    },
    {
      "cell_type": "code",
      "metadata": {
        "id": "4ULXiUa4V5P3",
        "colab_type": "code",
        "colab": {}
      },
      "source": [
        "class SampleParser(html.parser.HTMLParser):\n",
        "    def __init__(self):\n",
        "        super(SampleParser, self).__init__()\n",
        "\n",
        "        self.reset_state()\n",
        "\n",
        "    def reset_state(self):\n",
        "        self.url = \"NO_URL\"\n",
        "        self.site_name = \"NO_SITE_NAME\"\n",
        "        self.published_timestamp = 0\n",
        "        self.title = \"NO_TITLE\"\n",
        "        self.description = \"NO_DESCRIPTION\"\n",
        "        self.header = \"\"\n",
        "        self.text = []\n",
        "        self.author = \"UNK_AUTHOR\"\n",
        "        self.not_text = []\n",
        "\n",
        "        self.header_in = False\n",
        "        self.address_in = False\n",
        "        self.paragraph_in = False\n",
        "        self.author_in = False\n",
        "        self.address_in = False\n",
        "        self.article_in = False\n",
        "    \n",
        "    def handle_starttag(self, tag, attrs):\n",
        "        if tag == \"meta\":\n",
        "            self.parse_meta(attrs)\n",
        "        elif tag == \"article\":\n",
        "            self.article_in = True\n",
        "        elif tag == \"h1\":\n",
        "            self.header_in = True\n",
        "        elif tag == \"h2\":\n",
        "            self.header_in = True\n",
        "        elif tag == \"address\":\n",
        "            self.address_in = True\n",
        "        elif tag == \"p\":\n",
        "            self.paragraph_in = True\n",
        "        elif tag == \"a\" and self.address_in:\n",
        "            self.author_in = True\n",
        "\n",
        "    def handle_endtag(self, tag):\n",
        "        if tag == \"article\":\n",
        "            self.article_in = False\n",
        "        elif tag == \"h1\":\n",
        "            self.header_in = False\n",
        "        elif tag == \"h2\":\n",
        "            self.header_in = False\n",
        "        elif tag == \"address\":\n",
        "            self.address_in = False\n",
        "        elif tag == \"p\":\n",
        "            self.paragraph_in = False\n",
        "        elif tag == \"a\" and self.author_in:\n",
        "            self.author_in = False\n",
        "\n",
        "    def handle_data(self, data):\n",
        "        if self.header_in:\n",
        "            self.header += data\n",
        "        elif self.paragraph_in:\n",
        "            self.text.append(data)\n",
        "        elif self.author_in:\n",
        "            self.author = data\n",
        "        elif self.article_in:\n",
        "            self.not_text.append(data.strip())\n",
        "\n",
        "    def parse_meta(self, attrs):\n",
        "        tag_property = \"NO_PROPERTY\"\n",
        "        tag_content = \"NO_CONTENT\"\n",
        "        for name, value in attrs:\n",
        "            if name == \"property\":\n",
        "                tag_property = value\n",
        "            elif name == \"content\":\n",
        "                tag_content = value\n",
        "        \n",
        "        if tag_property == \"og:url\":\n",
        "            self.url = tag_content\n",
        "        elif tag_property == \"og:site_name\":\n",
        "            self.site_name = tag_content\n",
        "        elif tag_property == \"article:published_time\":\n",
        "            self.published_timestamp = int(dateutil.parser.parse(tag_content).timestamp())\n",
        "        elif tag_property == \"og:title\":\n",
        "            self.title = tag_content\n",
        "        elif tag_property == \"og:description\":\n",
        "            self.description = tag_content\n",
        "\n",
        "\n",
        "class ParseFile(object):\n",
        "    def __init__(self):\n",
        "        self.__sample_parser = SampleParser()\n",
        "\n",
        "    def __call__(self, raw_html_text):\n",
        "        self.__sample_parser.reset_state()\n",
        "        self.__sample_parser.feed(raw_html_text.numpy().decode('utf-8'))\n",
        "        return (self.__sample_parser.url,\n",
        "                self.__sample_parser.site_name,\n",
        "                self.__sample_parser.published_timestamp,\n",
        "                self.__sample_parser.title,\n",
        "                self.__sample_parser.description,\n",
        "                self.__sample_parser.header,\n",
        "                ' '.join(self.__sample_parser.text),\n",
        "                self.__sample_parser.author,\n",
        "                ' '.join(self.__sample_parser.not_text))"
      ],
      "execution_count": 0,
      "outputs": []
    },
    {
      "cell_type": "code",
      "metadata": {
        "id": "UQ0PFFQ7ZCvU",
        "colab_type": "code",
        "colab": {}
      },
      "source": [
        "def preprocess_raw_html(file_body):\n",
        "    url, site_name, published_timestamp, title, description, header, text, author, not_text = tf.py_function(ParseFile(), \n",
        "                                                                                                             inp=[file_body], \n",
        "                                                                                                             Tout=(tf.string, tf.string, tf.uint32, tf.string, tf.string, tf.string, tf.string, tf.string, tf.string))\n",
        "    return {\"url\": url,\n",
        "            \"site_name\": site_name,\n",
        "            \"published_timestamp\": published_timestamp,\n",
        "            \"title\": tf.reshape(title, (1,)),\n",
        "            \"description\": tf.reshape(description, (1,)),\n",
        "            \"header\": header,\n",
        "            \"text\": text,\n",
        "            \"not_text\": not_text,\n",
        "            \"author\": author}"
      ],
      "execution_count": 0,
      "outputs": []
    },
    {
      "cell_type": "code",
      "metadata": {
        "id": "ys3yw2Pyn8IZ",
        "colab_type": "code",
        "colab": {}
      },
      "source": [
        "def preprocess_text(doc):\n",
        "    return doc[\"description\"]"
      ],
      "execution_count": 0,
      "outputs": []
    },
    {
      "cell_type": "code",
      "metadata": {
        "id": "PyJfP-xa7ww7",
        "colab_type": "code",
        "colab": {}
      },
      "source": [
        "embed = tf_hub.load(\"https://tfhub.dev/google/universal-sentence-encoder-multilingual/2\")\n",
        "\n",
        "def transform_embed(doc):\n",
        "    return embed(doc)[\"outputs\"]"
      ],
      "execution_count": 0,
      "outputs": []
    },
    {
      "cell_type": "code",
      "metadata": {
        "id": "jCn0UVRpRr1F",
        "colab_type": "code",
        "colab": {}
      },
      "source": [
        "processed_data = data_clustering_sample.map(read_file) \\\n",
        "                                       .map(preprocess_raw_html) \\\n",
        "                                       .map(preprocess_text) \\\n",
        "                                       .map(transform_embed)"
      ],
      "execution_count": 0,
      "outputs": []
    },
    {
      "cell_type": "code",
      "metadata": {
        "id": "_iaSinlTtRs6",
        "colab_type": "code",
        "colab": {}
      },
      "source": [
        "N = 500000\n",
        "sample = np.empty((N, 512))\n",
        "\n",
        "for i, record in tqdm.tqdm_notebook(enumerate(processed_data.take(N))):\n",
        "    sample[i] = record.numpy()[0]"
      ],
      "execution_count": 0,
      "outputs": []
    },
    {
      "cell_type": "code",
      "metadata": {
        "id": "2AY5cpKxKkF7",
        "colab_type": "code",
        "colab": {}
      },
      "source": [
        "reducer = umap.UMAP()\n",
        "embeddings = reducer.fit_transform(sample)\n",
        "\n",
        "fig, axs = plt.subplots(nrows=1, ncols=1, figsize=(14, 7))\n",
        "axs.scatter(embeddings[:, 0], embeddings[:, 1])\n",
        "plt.show()"
      ],
      "execution_count": 0,
      "outputs": []
    },
    {
      "cell_type": "code",
      "metadata": {
        "id": "GWrwaZSFLJ2B",
        "colab_type": "code",
        "colab": {}
      },
      "source": [
        ""
      ],
      "execution_count": 0,
      "outputs": []
    }
  ]
}